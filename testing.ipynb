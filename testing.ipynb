{
 "cells": [
  {
   "cell_type": "code",
   "execution_count": 3,
   "id": "1373e831-21f1-42e6-9515-59fc600b6866",
   "metadata": {},
   "outputs": [],
   "source": [
    "import numpy as np\n",
    "import pandas as pd\n",
    "import os\n",
    "from sklearn.model_selection import train_test_split\n",
    "\n",
    "os.chdir(\"../..\")\n",
    "dataframe = pd.read_csv(\"/nfs/turbo/umms-bleu-secure/trainingData/trainingData.csv\")\n",
    "data = dataframe.values\n",
    "\n",
    "#Inputs and outputs\n",
    "x = data[:,1:23]\n",
    "y = data[:,23]\n",
    "\n",
    "#training and validation\n",
    "xTrain, xVal, yTrain, yVal = train_test_split(x, y, test_size=0.3)\n",
    "\n"
   ]
  },
  {
   "cell_type": "code",
   "execution_count": null,
   "id": "49febc48-3f59-40e7-8eed-f5a97bbb9769",
   "metadata": {},
   "outputs": [],
   "source": [
    "model = Sequential([\n",
    "    Dense(16, activation='relu', input_shape=(22,)),\n",
    "    Dense(16, activation='relu'),\n",
    "    Dense(1, activation='sigmoid'),\n",
    "])\n",
    "\n",
    "model.compile(optimizer='sgd',\n",
    "              loss='binary_crossentropy',\n",
    "              metrics=['accuracy'])\n",
    "\n",
    "hist = model.fit(xTrain, yTrain,\n",
    "          batch_size=32, epochs=100,\n",
    "          validation_data=(xVal, yVal))\n",
    "\n",
    "model.evaluate(xTest, yTest)[1]\n",
    "\n",
    "yhat = model.predict(xTest)\n",
    "[yhat, yTest]"
   ]
  },
  {
   "cell_type": "code",
   "execution_count": 4,
   "id": "4840eadc-a23a-4700-a527-cf538114d281",
   "metadata": {},
   "outputs": [
    {
     "data": {
      "text/plain": [
       "6.366698076996606"
      ]
     },
     "execution_count": 4,
     "metadata": {},
     "output_type": "execute_result"
    }
   ],
   "source": [
    "np.std(y)"
   ]
  },
  {
   "cell_type": "code",
   "execution_count": null,
   "id": "e93bad3f-11d1-4c01-8e3e-8b7b59cd4f86",
   "metadata": {},
   "outputs": [],
   "source": []
  }
 ],
 "metadata": {
  "kernelspec": {
   "display_name": "Python 3 (ipykernel)",
   "language": "python",
   "name": "python3"
  },
  "language_info": {
   "codemirror_mode": {
    "name": "ipython",
    "version": 3
   },
   "file_extension": ".py",
   "mimetype": "text/x-python",
   "name": "python",
   "nbconvert_exporter": "python",
   "pygments_lexer": "ipython3",
   "version": "3.9.7"
  }
 },
 "nbformat": 4,
 "nbformat_minor": 5
}
